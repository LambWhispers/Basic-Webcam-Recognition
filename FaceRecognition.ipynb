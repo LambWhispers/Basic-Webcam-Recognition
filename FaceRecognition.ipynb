{
 "cells": [
  {
   "cell_type": "code",
   "execution_count": null,
   "id": "79227c31-892c-4875-92ba-72eca6922ee0",
   "metadata": {},
   "outputs": [],
   "source": [
    "!pip install opencv-python face_recognition\n",
    "!pip install --upgrade face_recognition dlib"
   ]
  },
  {
   "cell_type": "code",
   "execution_count": 28,
   "id": "fe42ae8f-a139-4d2b-aef8-e157a95c2cd4",
   "metadata": {},
   "outputs": [],
   "source": [
    "import cv2\n",
    "import face_recognition\n",
    "import numpy as np\n"
   ]
  },
  {
   "cell_type": "code",
   "execution_count": 29,
   "id": "a8657a64-ba41-4484-8615-c7a6175747ea",
   "metadata": {},
   "outputs": [],
   "source": [
    "# Open the webcam (0 is the default webcam)\n",
    "video_capture = cv2.VideoCapture(0)\n"
   ]
  },
  {
   "cell_type": "code",
   "execution_count": 30,
   "id": "ba0ed042-6af1-4811-8db1-cab15497f540",
   "metadata": {},
   "outputs": [],
   "source": [
    "# Load a sample picture and learn how to recognize it.\n",
    "known_image = face_recognition.load_image_file(\"Lamb Whisper.jpg\")\n",
    "known_face_encoding = face_recognition.face_encodings(known_image)[0]\n",
    "\n",
    "# Create arrays of known face encodings and their names\n",
    "known_face_encodings = [known_face_encoding]\n",
    "known_face_names = [\"Lamb Whisper\"]  # Add more as needed\n"
   ]
  },
  {
   "cell_type": "code",
   "execution_count": null,
   "id": "2bef64de-03e1-417c-8593-9dcd03dc424e",
   "metadata": {},
   "outputs": [],
   "source": [
    "while True:\n",
    "    # Grab a single frame of video\n",
    "    ret, frame = video_capture.read()\n",
    "\n",
    "    # Convert the image from BGR (OpenCV format) to RGB (face_recognition format)\n",
    "    rgb_frame = frame[:, :, ::-1]\n",
    "\n",
    "    # Ensure frame is in uint8 format\n",
    "    rgb_frame = np.array(rgb_frame, dtype=np.uint8)\n",
    "\n",
    "    # Detect face locations\n",
    "    face_locations = face_recognition.face_locations(rgb_frame, model=\"cnn\")\n",
    "    \n",
    "    # Debugging: print face locations\n",
    "    print(face_locations)  \n",
    "\n",
    "    # Check if faces are detected\n",
    "    if len(face_locations) > 0:\n",
    "        # Fix: Removing face_locations from the function call for testing\n",
    "        face_encodings = face_recognition.face_encodings(rgb_frame)\n",
    "\n",
    "        # Loop over each face found in the frame\n",
    "        for (top, right, bottom, left), face_encoding in zip(face_locations, face_encodings):\n",
    "            matches = face_recognition.compare_faces(known_face_encodings, face_encoding)\n",
    "            name = \"Unknown\"\n",
    "\n",
    "            if True in matches:\n",
    "                first_match_index = matches.index(True)\n",
    "                name = known_face_names[first_match_index]\n",
    "\n",
    "            # Draw a box around the face\n",
    "            cv2.rectangle(frame, (left, top), (right, bottom), (0, 255, 0), 2)\n",
    "\n",
    "            # Draw a label with the name below the face\n",
    "            cv2.rectangle(frame, (left, bottom - 35), (right, bottom), (0, 255, 0), cv2.FILLED)\n",
    "            cv2.putText(frame, name, (left + 6, bottom - 6), cv2.FONT_HERSHEY_DUPLEX, 1.0, (255, 255, 255), 1)\n",
    "\n",
    "    else:\n",
    "        print(\"No faces detected\")\n",
    "\n",
    "    # Display the result frame in a separate window (adjust for Jupyter)\n",
    "    cv2.imshow('Video', frame)\n",
    "\n",
    "    # Hit 'q' on the keyboard to quit\n",
    "    if cv2.waitKey(1) & 0xFF == ord('q'):\n",
    "        break\n",
    "\n",
    "# Release handle to the webcam\n",
    "video_capture.release()\n",
    "cv2.destroyAllWindows()"
   ]
  }
 ],
 "metadata": {
  "kernelspec": {
   "display_name": "Python 3 (ipykernel)",
   "language": "python",
   "name": "python3"
  },
  "language_info": {
   "codemirror_mode": {
    "name": "ipython",
    "version": 3
   },
   "file_extension": ".py",
   "mimetype": "text/x-python",
   "name": "python",
   "nbconvert_exporter": "python",
   "pygments_lexer": "ipython3",
   "version": "3.12.6"
  }
 },
 "nbformat": 4,
 "nbformat_minor": 5
}
